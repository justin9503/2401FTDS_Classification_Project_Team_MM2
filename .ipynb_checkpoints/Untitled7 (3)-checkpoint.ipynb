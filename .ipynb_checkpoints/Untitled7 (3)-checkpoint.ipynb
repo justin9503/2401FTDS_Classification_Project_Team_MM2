{
  "nbformat": 4,
  "nbformat_minor": 0,
  "metadata": {
    "colab": {
      "provenance": []
    },
    "kernelspec": {
      "name": "python3",
      "display_name": "Python 3"
    },
    "language_info": {
      "name": "python"
    }
  },
  "cells": [
    {
      "cell_type": "code",
      "execution_count": 1,
      "metadata": {
        "colab": {
          "base_uri": "https://localhost:8080/",
          "height": 383
        },
        "id": "Uh6P0PAfym14",
        "outputId": "c06de19b-1cd7-40d6-b571-82540a24589e"
      },
      "outputs": [
        {
          "output_type": "error",
          "ename": "ModuleNotFoundError",
          "evalue": "No module named 'mlflow'",
          "traceback": [
            "\u001b[0;31m---------------------------------------------------------------------------\u001b[0m",
            "\u001b[0;31mModuleNotFoundError\u001b[0m                       Traceback (most recent call last)",
            "\u001b[0;32m<ipython-input-1-97e7e4ffac25>\u001b[0m in \u001b[0;36m<cell line: 1>\u001b[0;34m()\u001b[0m\n\u001b[0;32m----> 1\u001b[0;31m \u001b[0;32mimport\u001b[0m \u001b[0mmlflow\u001b[0m\u001b[0;34m\u001b[0m\u001b[0;34m\u001b[0m\u001b[0m\n\u001b[0m\u001b[1;32m      2\u001b[0m \u001b[0;32mimport\u001b[0m \u001b[0mmlflow\u001b[0m\u001b[0;34m.\u001b[0m\u001b[0msklearn\u001b[0m\u001b[0;34m\u001b[0m\u001b[0;34m\u001b[0m\u001b[0m\n\u001b[1;32m      3\u001b[0m \u001b[0;32mfrom\u001b[0m \u001b[0msklearn\u001b[0m\u001b[0;34m.\u001b[0m\u001b[0mdatasets\u001b[0m \u001b[0;32mimport\u001b[0m \u001b[0mload_iris\u001b[0m\u001b[0;34m\u001b[0m\u001b[0;34m\u001b[0m\u001b[0m\n\u001b[1;32m      4\u001b[0m \u001b[0;32mfrom\u001b[0m \u001b[0msklearn\u001b[0m\u001b[0;34m.\u001b[0m\u001b[0mmodel_selection\u001b[0m \u001b[0;32mimport\u001b[0m \u001b[0mGridSearchCV\u001b[0m\u001b[0;34m,\u001b[0m \u001b[0mtrain_test_split\u001b[0m\u001b[0;34m\u001b[0m\u001b[0;34m\u001b[0m\u001b[0m\n\u001b[1;32m      5\u001b[0m \u001b[0;32mfrom\u001b[0m \u001b[0msklearn\u001b[0m\u001b[0;34m.\u001b[0m\u001b[0mensemble\u001b[0m \u001b[0;32mimport\u001b[0m \u001b[0mRandomForestClassifier\u001b[0m\u001b[0;34m\u001b[0m\u001b[0;34m\u001b[0m\u001b[0m\n",
            "\u001b[0;31mModuleNotFoundError\u001b[0m: No module named 'mlflow'",
            "",
            "\u001b[0;31m---------------------------------------------------------------------------\u001b[0;32m\nNOTE: If your import is failing due to a missing package, you can\nmanually install dependencies using either !pip or !apt.\n\nTo view examples of installing some common dependencies, click the\n\"Open Examples\" button below.\n\u001b[0;31m---------------------------------------------------------------------------\u001b[0m\n"
          ],
          "errorDetails": {
            "actions": [
              {
                "action": "open_url",
                "actionText": "Open Examples",
                "url": "/notebooks/snippets/importing_libraries.ipynb"
              }
            ]
          }
        }
      ],
      "source": [
        "import mlflow\n",
        "import mlflow.sklearn\n",
        "from sklearn.datasets import load_iris\n",
        "from sklearn.model_selection import GridSearchCV, train_test_split\n",
        "from sklearn.ensemble import RandomForestClassifier\n",
        "from sklearn.metrics import accuracy_score"
      ]
    },
    {
      "cell_type": "code",
      "source": [
        "# Load and split data\n",
        "data = load_iris()\n",
        "X_train, X_test, y_train, y_test = train_test_split(data.data, data.target, test_size=0.2, random_state=42)\n",
        "\n",
        "# Define model and parameter grid\n",
        "model = RandomForestClassifier()\n",
        "param_grid = {\n",
        "    'n_estimators': [50, 100, 200],\n",
        "    'max_depth': [None, 10, 20, 30],\n",
        "    'min_samples_split': [2, 5, 10]\n",
        "}\n",
        "\n",
        "# Set up GridSearchCV\n",
        "grid_search = GridSearchCV(estimator=model, param_grid=param_grid, cv=3, n_jobs=-1, verbose=2)"
      ],
      "metadata": {
        "id": "OS0oa8BWy6Ea"
      },
      "execution_count": null,
      "outputs": []
    },
    {
      "cell_type": "code",
      "source": [
        "# Function to log CV results to MLflow\n",
        "def log_cv_results_to_mlflow(cv_results):\n",
        "    for i in range(len(cv_results['params'])):\n",
        "        with mlflow.start_run(nested=True):\n",
        "            mlflow.log_params(cv_results['params'][i])\n",
        "            mlflow.log_metric('mean_test_score', cv_results['mean_test_score'][i])\n",
        "            mlflow.log_metric('std_test_score', cv_results['std_test_score'][i])\n",
        "            mlflow.log_metric('rank_test_score', cv_results['rank_test_score'][i])\n",
        "\n",
        "# Start a parent run to group all grid search runs\n",
        "with mlflow.start_run(run_name=\"GridSearchCV_Experiment_rf\") as parent_run:\n",
        "    grid_search.fit(X_train, y_train)\n",
        "\n",
        "    # Log the best estimator in a separate, clearly designated run\n",
        "    with mlflow.start_run(run_name=\"BestModel\", nested=True) as best_model_run:\n",
        "        mlflow.sklearn.log_model(grid_search.best_estimator_, \"best_model\")\n",
        "        mlflow.log_params(grid_search.best_params_)\n",
        "        mlflow.log_metric('best_score', grid_search.best_score_)\n",
        "        mlflow.set_tag('parent_run_id', parent_run.info.run_id)\n",
        "\n",
        "    # Log all results for hyperparameter tuning\n",
        "    log_cv_results_to_mlflow(grid_search.cv_results_)\n",
        "\n",
        "    # Evaluate on test set and log the accuracy in the parent run\n",
        "    y_pred = grid_search.predict(X_test)\n",
        "    accuracy = accuracy_score(y_test, y_pred)\n",
        "    mlflow.log_metric('test_accuracy', accuracy)\n",
        "    mlflow.set_tag('experiment_type', 'GridSearchCV')"
      ],
      "metadata": {
        "id": "4h0PdlyyzAu4"
      },
      "execution_count": null,
      "outputs": []
    }
  ]
}